{
 "cells": [
  {
   "cell_type": "code",
   "execution_count": 1,
   "id": "c9eb2ce6",
   "metadata": {},
   "outputs": [
    {
     "name": "stderr",
     "output_type": "stream",
     "text": [
      "\n",
      "[notice] A new release of pip is available: 25.1.1 -> 25.2\n",
      "[notice] To update, run: python.exe -m pip install --upgrade pip\n"
     ]
    },
    {
     "name": "stdout",
     "output_type": "stream",
     "text": [
      "Requirement already satisfied: requests in c:\\users\\beau\\anaconda3\\lib\\site-packages (2.28.1)\n",
      "Requirement already satisfied: charset-normalizer<3,>=2 in c:\\users\\beau\\anaconda3\\lib\\site-packages (from requests) (2.0.4)\n",
      "Requirement already satisfied: idna<4,>=2.5 in c:\\users\\beau\\anaconda3\\lib\\site-packages (from requests) (3.4)\n",
      "Requirement already satisfied: urllib3<1.27,>=1.21.1 in c:\\users\\beau\\anaconda3\\lib\\site-packages (from requests) (1.26.14)\n",
      "Requirement already satisfied: certifi>=2017.4.17 in c:\\users\\beau\\anaconda3\\lib\\site-packages (from requests) (2022.12.7)\n"
     ]
    }
   ],
   "source": [
    "!pip install requests"
   ]
  },
  {
   "cell_type": "code",
   "execution_count": 2,
   "id": "9f90b3d3",
   "metadata": {},
   "outputs": [],
   "source": [
    "# only use this if your packages are installing to the wrong location\n",
    "import sys\n",
    "sys.path.append(\"c:/users/beau/anaconda3/lib/site-packages\")"
   ]
  },
  {
   "cell_type": "code",
   "execution_count": 3,
   "id": "746bceda",
   "metadata": {},
   "outputs": [],
   "source": [
    "import os\n",
    "import time\n",
    "import requests\n",
    "import yaml\n",
    "import pandas as pd\n",
    "import numpy as np"
   ]
  },
  {
   "cell_type": "code",
   "execution_count": 4,
   "id": "8531875c",
   "metadata": {},
   "outputs": [],
   "source": [
    "with open('../../config.yaml', 'r') as file:\n",
    "    config = yaml.safe_load(file)\n",
    "    \n",
    "season_year = 2024"
   ]
  },
  {
   "cell_type": "code",
   "execution_count": 34,
   "id": "9d920db4",
   "metadata": {},
   "outputs": [
    {
     "data": {
      "text/plain": [
       "'C:/Users/Beau/Documents/GitHub/fantasy-basketball'"
      ]
     },
     "execution_count": 34,
     "metadata": {},
     "output_type": "execute_result"
    }
   ],
   "source": [
    "config['basketball']['ROOT']"
   ]
  },
  {
   "cell_type": "markdown",
   "id": "224d75c4",
   "metadata": {},
   "source": [
    "### Sportradar for stats"
   ]
  },
  {
   "cell_type": "code",
   "execution_count": 8,
   "id": "a7c0c87e",
   "metadata": {},
   "outputs": [],
   "source": [
    "base_sportradar_url = \"https://api.sportradar.com/nba/\"\n",
    "access_level = 'trial'\n",
    "language_code = 'en'\n",
    "season_type = 'REG'\n",
    "headers = {\n",
    "    'x-api-key': config['sportradar_api_key'],\n",
    "}"
   ]
  },
  {
   "cell_type": "code",
   "execution_count": 31,
   "id": "c8c286db",
   "metadata": {},
   "outputs": [],
   "source": [
    "def get_teams():\n",
    "    query = f\"{base_sportradar_url}/{access_level}/v7/{language_code}/league/teams.json\"\n",
    "    try:\n",
    "        response = requests.get(query, headers=headers)\n",
    "        response.raise_for_status()\n",
    "        teams = response.json()\n",
    "    except requests.exceptions.RequestException as error:\n",
    "        print(f\"An error occurred: {error}\")\n",
    "\n",
    "    df_teams = pd.DataFrame(teams['teams'])\n",
    "    df_teams['NBA'] = df_teams.id.str.contains('583')\n",
    "    df_nba_teams = df_teams.loc[df_teams.NBA]\n",
    "    \n",
    "    return df_nba_teams"
   ]
  },
  {
   "cell_type": "code",
   "execution_count": 51,
   "id": "732e3ffc",
   "metadata": {},
   "outputs": [],
   "source": [
    "# df_teams = get_teams()\n",
    "# df_nba_teams.to_csv(os.path.join(config['basketball']['ROOT'], \"data\", \"teams.csv\"), index=False)\n",
    "df_nba_teams = pd.read_csv(os.path.join(config['basketball']['ROOT'], \"data\", \"teams.csv\"))"
   ]
  },
  {
   "cell_type": "code",
   "execution_count": 52,
   "id": "22986531",
   "metadata": {},
   "outputs": [
    {
     "data": {
      "text/html": [
       "<div>\n",
       "<style scoped>\n",
       "    .dataframe tbody tr th:only-of-type {\n",
       "        vertical-align: middle;\n",
       "    }\n",
       "\n",
       "    .dataframe tbody tr th {\n",
       "        vertical-align: top;\n",
       "    }\n",
       "\n",
       "    .dataframe thead th {\n",
       "        text-align: right;\n",
       "    }\n",
       "</style>\n",
       "<table border=\"1\" class=\"dataframe\">\n",
       "  <thead>\n",
       "    <tr style=\"text-align: right;\">\n",
       "      <th></th>\n",
       "      <th>id</th>\n",
       "      <th>name</th>\n",
       "      <th>alias</th>\n",
       "      <th>market</th>\n",
       "      <th>NBA</th>\n",
       "    </tr>\n",
       "  </thead>\n",
       "  <tbody>\n",
       "    <tr>\n",
       "      <th>0</th>\n",
       "      <td>583ec87d-fb46-11e1-82cb-f4ce4684ea4c</td>\n",
       "      <td>76ers</td>\n",
       "      <td>PHI</td>\n",
       "      <td>Philadelphia</td>\n",
       "      <td>True</td>\n",
       "    </tr>\n",
       "    <tr>\n",
       "      <th>1</th>\n",
       "      <td>583ecefd-fb46-11e1-82cb-f4ce4684ea4c</td>\n",
       "      <td>Bucks</td>\n",
       "      <td>MIL</td>\n",
       "      <td>Milwaukee</td>\n",
       "      <td>True</td>\n",
       "    </tr>\n",
       "    <tr>\n",
       "      <th>2</th>\n",
       "      <td>583ec5fd-fb46-11e1-82cb-f4ce4684ea4c</td>\n",
       "      <td>Bulls</td>\n",
       "      <td>CHI</td>\n",
       "      <td>Chicago</td>\n",
       "      <td>True</td>\n",
       "    </tr>\n",
       "    <tr>\n",
       "      <th>3</th>\n",
       "      <td>583ec773-fb46-11e1-82cb-f4ce4684ea4c</td>\n",
       "      <td>Cavaliers</td>\n",
       "      <td>CLE</td>\n",
       "      <td>Cleveland</td>\n",
       "      <td>True</td>\n",
       "    </tr>\n",
       "    <tr>\n",
       "      <th>4</th>\n",
       "      <td>583eccfa-fb46-11e1-82cb-f4ce4684ea4c</td>\n",
       "      <td>Celtics</td>\n",
       "      <td>BOS</td>\n",
       "      <td>Boston</td>\n",
       "      <td>True</td>\n",
       "    </tr>\n",
       "  </tbody>\n",
       "</table>\n",
       "</div>"
      ],
      "text/plain": [
       "                                     id       name alias        market   NBA\n",
       "0  583ec87d-fb46-11e1-82cb-f4ce4684ea4c      76ers   PHI  Philadelphia  True\n",
       "1  583ecefd-fb46-11e1-82cb-f4ce4684ea4c      Bucks   MIL     Milwaukee  True\n",
       "2  583ec5fd-fb46-11e1-82cb-f4ce4684ea4c      Bulls   CHI       Chicago  True\n",
       "3  583ec773-fb46-11e1-82cb-f4ce4684ea4c  Cavaliers   CLE     Cleveland  True\n",
       "4  583eccfa-fb46-11e1-82cb-f4ce4684ea4c    Celtics   BOS        Boston  True"
      ]
     },
     "execution_count": 52,
     "metadata": {},
     "output_type": "execute_result"
    }
   ],
   "source": [
    "df_nba_teams.head()"
   ]
  },
  {
   "cell_type": "code",
   "execution_count": 53,
   "id": "1256f0d7",
   "metadata": {},
   "outputs": [],
   "source": [
    "team_id = '583ec87d-fb46-11e1-82cb-f4ce4684ea4c'"
   ]
  },
  {
   "cell_type": "code",
   "execution_count": 54,
   "id": "8ce9978a",
   "metadata": {},
   "outputs": [],
   "source": [
    "query = f\"{base_sportradar_url}/{access_level}/v8/{language_code}/seasons/{season_year}/{season_type}/teams/{team_id}/statistics.json\"\n",
    "try:\n",
    "    response = requests.get(query, headers=headers)\n",
    "    response.raise_for_status()\n",
    "    data = response.json()\n",
    "except requests.exceptions.RequestException as error:\n",
    "    print(f\"An error occurred: {error}\")"
   ]
  },
  {
   "cell_type": "code",
   "execution_count": 56,
   "id": "63cf5854",
   "metadata": {},
   "outputs": [
    {
     "data": {
      "text/plain": [
       "dict_keys(['id', 'name', 'market', 'sr_id', 'reference', 'season', 'own_record', 'opponents', 'players'])"
      ]
     },
     "execution_count": 56,
     "metadata": {},
     "output_type": "execute_result"
    }
   ],
   "source": [
    "data.keys()"
   ]
  },
  {
   "cell_type": "code",
   "execution_count": 72,
   "id": "467f32bd",
   "metadata": {},
   "outputs": [
    {
     "data": {
      "text/plain": [
       "{'minutes': 4.3,\n",
       " 'points': 2.3,\n",
       " 'off_rebounds': 0.75,\n",
       " 'def_rebounds': 0.25,\n",
       " 'rebounds': 1.0,\n",
       " 'assists': 0.3,\n",
       " 'steals': 0.0,\n",
       " 'blocks': 0.0,\n",
       " 'turnovers': 1.0,\n",
       " 'personal_fouls': 0.0,\n",
       " 'flagrant_fouls': 0.0,\n",
       " 'blocked_att': 0.0,\n",
       " 'field_goals_made': 1.0,\n",
       " 'field_goals_att': 2.0,\n",
       " 'three_points_made': 0.0,\n",
       " 'three_points_att': 0.75,\n",
       " 'free_throws_made': 0.25,\n",
       " 'free_throws_att': 0.25,\n",
       " 'two_points_made': 1.0,\n",
       " 'two_points_att': 1.25,\n",
       " 'efficiency': 1.5,\n",
       " 'true_shooting_att': 2.11,\n",
       " 'points_off_turnovers': 1.0,\n",
       " 'points_in_paint_made': 1.0,\n",
       " 'points_in_paint_att': 1.0,\n",
       " 'points_in_paint': 2.0,\n",
       " 'fouls_drawn': 0.25,\n",
       " 'offensive_fouls': 0.0,\n",
       " 'fast_break_pts': 0.0,\n",
       " 'fast_break_att': 0.25,\n",
       " 'fast_break_made': 0.0,\n",
       " 'second_chance_pts': 1.25,\n",
       " 'second_chance_att': 0.75,\n",
       " 'second_chance_made': 0.5}"
      ]
     },
     "execution_count": 72,
     "metadata": {},
     "output_type": "execute_result"
    }
   ],
   "source": [
    "pd.DataFrame(data['players']).loc[0]['average']"
   ]
  },
  {
   "cell_type": "code",
   "execution_count": 6,
   "id": "f2884873",
   "metadata": {},
   "outputs": [],
   "source": [
    "def get_games_in_season(season_year):\n",
    "    query = f\"{base_sportradar_url}/{access_level}/v8/{language_code}/games/{season_year}/{season_type}/schedule.json\"\n",
    "    try:\n",
    "        response = requests.get(query, headers=headers)\n",
    "        response.raise_for_status()\n",
    "        data = response.json()\n",
    "    except requests.exceptions.RequestException as error:\n",
    "        print(f\"An error occurred: {error}\")\n",
    "\n",
    "    df_season_weeks = pd.DataFrame(data['weeks'])\n",
    "\n",
    "    games_list = []\n",
    "    for games in df_season_weeks.games:\n",
    "        games_list.append(pd.DataFrame(games))\n",
    "\n",
    "    all_games = pd.concat(games_list).reset_index(drop=True)\n",
    "\n",
    "    all_games['home_team_id'] = all_games.home.apply(lambda x: x['id'])\n",
    "    all_games['away_team_id'] = all_games.away.apply(lambda x: x['id'])\n",
    "    \n",
    "    return all_games"
   ]
  },
  {
   "cell_type": "code",
   "execution_count": null,
   "id": "8e235a20",
   "metadata": {},
   "outputs": [],
   "source": [
    "season_year = 2024\n",
    "schedule = get_games_in_season(season_year)\n",
    "schedule.to_csv(os.path.join(config['ROOT'], \"data\", f\"schedule_{season_year}.csv\"), index=False)\n",
    "# schedule = pd.read_csv(os.path.join(config['ROOT'], \"data\", f\"{season_year}\", f\"schedule.csv\"))"
   ]
  }
 ],
 "metadata": {
  "kernelspec": {
   "display_name": "Python 3 (ipykernel)",
   "language": "python",
   "name": "python3"
  },
  "language_info": {
   "codemirror_mode": {
    "name": "ipython",
    "version": 3
   },
   "file_extension": ".py",
   "mimetype": "text/x-python",
   "name": "python",
   "nbconvert_exporter": "python",
   "pygments_lexer": "ipython3",
   "version": "3.10.9"
  }
 },
 "nbformat": 4,
 "nbformat_minor": 5
}
